{
 "cells": [
  {
   "cell_type": "markdown",
   "metadata": {},
   "source": [
    "Project Description:\n",
    "\n",
    "Use same datasets as Project 2.\n",
    "Run all the models only on 10% data. Use code given in Project 2 for sampling.\n",
    "Preprocess data: Explore data and apply data scaling.\n",
    "Regression Task:\n",
    "\n",
    "Apply any two models with bagging and any two models with pasting.\n",
    "Apply any two models with adaboost boosting\n",
    "Apply one model with gradient boosting\n",
    "Apply PCA on data and then apply all the models in project 2 again on data you get from PCA.\n",
    " Compare your results with results in project 2. You don't need to apply all the models twice.\n",
    " Just copy the result table from project 2, prepare similar table for all the models after PCA and compare both tables. \n",
    " Does PCA help in getting better results?\n",
    "Apply deep learning models covered in class"
   ]
  },
  {
   "cell_type": "code",
   "execution_count": 1,
   "metadata": {},
   "outputs": [],
   "source": [
    "import pandas as pd \n",
    "import numpy as np\n",
    "import matplotlib.pyplot as plt\n",
    "import numpy as np\n",
    "import pandas as pd\n",
    "import scipy\n",
    "import numpy as np \n",
    "from scipy import linalg\n",
    "import pylab \n",
    "import scipy.stats as stats \n",
    "from scipy.stats import boxcox\n",
    "from sklearn.base import BaseEstimator, TransformerMixin\n",
    "from sklearn.preprocessing import Imputer\n",
    "from statsmodels.stats.outliers_influence import variance_inflation_factor\n",
    "from sklearn.linear_model import Lasso\n",
    "from  sklearn.linear_model import Ridge\n",
    "from  sklearn.preprocessing  import PolynomialFeatures\n",
    "from sklearn.neighbors import KNeighborsRegressor\n",
    "from  sklearn.ensemble import GradientBoostingRegressor\n",
    "from sklearn.linear_model import LinearRegression\n",
    "from sklearn.preprocessing import MinMaxScaler\n",
    "from sklearn.model_selection import train_test_split\n",
    "import statsmodels.api as sm\n",
    "from sklearn.model_selection import GridSearchCV\n",
    "from sklearn.linear_model import Lasso\n",
    "from sklearn import metrics\n",
    "from sklearn.svm import SVR\n",
    "from sklearn.decomposition import PCA"
   ]
  },
  {
   "cell_type": "code",
   "execution_count": 2,
   "metadata": {},
   "outputs": [],
   "source": [
    "# Supress Warnings\n",
    "import warnings\n",
    "warnings.filterwarnings('ignore')"
   ]
  },
  {
   "cell_type": "markdown",
   "metadata": {},
   "source": [
    "**# Importing the data file and renaming the columns** \n"
   ]
  },
  {
   "cell_type": "code",
   "execution_count": 3,
   "metadata": {},
   "outputs": [
    {
     "data": {
      "text/plain": [
       "(583249, 78)"
      ]
     },
     "execution_count": 3,
     "metadata": {},
     "output_type": "execute_result"
    }
   ],
   "source": [
    "#reading the file\n",
    "df=pd.read_csv('Twitter.data')\n",
    "\n",
    "#renaming the columns\n",
    "data_cols=['NCD_0','NCD_1','NCD_2','NCD_3','NCD_4','NCD_5','NCD_6','AI_0','AI_1','AI_2','AI_3','AI_4','AI_5','AI_6','AS(NA)_0','AS(NA)_1','AS(NA)_2','AS(NA)_3','AS(NA)_4','AS(NA)_5','AS(NA)_6','BL_0','BL_1','BL_2','BL_3','BL_4','BL_5','BL_6','NAC_0','NAC_1','NAC_2','NAC_3','NAC_4','NAC_5','NAC_6','AS(NAC)_0','AS(NAC)_1','AS(NAC)_2','AS(NAC)_3','AS(NAC)_4','AS(NAC)_5','AS(NAC)_6','CS_0','CS_1','CS_2','CS_3','CS_4','CS_5','CS_6','AT_0','AT_1','AT_2','AT_3','AT_4','AT_5','AT_6','NA_0','NA_1','NA_2','NA_3','NA_4','NA_5','NA_6',\n",
    "'ADL_0','ADL_1','ADL_2','ADL_3','ADL_4','ADL_5','ADL_6','NAD_0','NAD_1','NAD_2','NAD_3','NAD_4','NAD_5','NAD_6','Target']\n",
    "df.columns=data_cols\n",
    "df.shape"
   ]
  },
  {
   "cell_type": "markdown",
   "metadata": {},
   "source": [
    "Take sample of data for 10% of the total data"
   ]
  },
  {
   "cell_type": "code",
   "execution_count": 4,
   "metadata": {},
   "outputs": [
    {
     "name": "stdout",
     "output_type": "stream",
     "text": [
      "(583249, 76)\n",
      "(583249,)\n"
     ]
    }
   ],
   "source": [
    "X1=df.iloc[:,0:76]\n",
    "y1=df.iloc[:,77]\n",
    "print(X1.shape)\n",
    "print(y1.shape)\n"
   ]
  },
  {
   "cell_type": "code",
   "execution_count": 5,
   "metadata": {},
   "outputs": [
    {
     "data": {
      "text/plain": [
       "(58325,)"
      ]
     },
     "execution_count": 5,
     "metadata": {},
     "output_type": "execute_result"
    }
   ],
   "source": [
    "# Load the Libraries \n",
    "from sklearn.model_selection import train_test_split\n",
    "from sklearn.preprocessing import MinMaxScaler\n",
    "\n",
    "# Randomizing the dataset and using 10% of the dataset for building models\n",
    "\n",
    "_, X,_, y = train_test_split(X1,y1, shuffle = True, test_size = 0.1)\n",
    "X.shape\n",
    "y.shape"
   ]
  },
  {
   "cell_type": "code",
   "execution_count": 6,
   "metadata": {},
   "outputs": [],
   "source": [
    "X_train_org, X_test_org, y_train, y_test = train_test_split(X, y, random_state = 0, test_size = 0.2)\n",
    "\n",
    "scaler = MinMaxScaler()\n",
    "X_train = scaler.fit_transform(X_train_org)\n",
    "X_test = scaler.transform(X_test_org)\n"
   ]
  },
  {
   "cell_type": "markdown",
   "metadata": {},
   "source": [
    "**Bagging**\n"
   ]
  },
  {
   "cell_type": "markdown",
   "metadata": {},
   "source": [
    "Decision tree regressor model ,Support vector Regressor , Random forest Regressor has applied with bagging"
   ]
  },
  {
   "cell_type": "code",
   "execution_count": 6,
   "metadata": {},
   "outputs": [],
   "source": [
    "from sklearn.ensemble import BaggingRegressor\n",
    "from sklearn.tree import DecisionTreeRegressor\n",
    "\n",
    "dt_clf = DecisionTreeRegressor()\n",
    "\n",
    "bag_clf = BaggingRegressor(dt_clf, n_estimators=50, max_samples=100, bootstrap=True, n_jobs=-1, random_state=0)\n",
    "dt_clf.fit(X_train, y_train)\n",
    "bag_clf.fit(X_train, y_train)\n",
    "y_pred = bag_clf.predict(X_test)"
   ]
  },
  {
   "cell_type": "code",
   "execution_count": 7,
   "metadata": {},
   "outputs": [
    {
     "name": "stdout",
     "output_type": "stream",
     "text": [
      "Train score bag_clf: 0.57\n",
      "Test score bag_clf: 0.54\n",
      "Train score dt_clf: 1.00\n",
      "Test score dt_clf: 0.92\n"
     ]
    }
   ],
   "source": [
    "#from  sklearn.metrics import accuracy_score\n",
    "#print(accuracy_score(y_test, y_pred))\n",
    "bag_clf.fit(X_train, y_train)\n",
    "print('Train score bag_clf: {:.2f}'.format(bag_clf.score(X_train, y_train)))\n",
    "print('Test score bag_clf: {:.2f}'.format(bag_clf.score(X_test, y_test)))\n",
    "print('Train score dt_clf: {:.2f}'.format(dt_clf.score(X_train, y_train)))\n",
    "print('Test score dt_clf: {:.2f}'.format(dt_clf.score(X_test, y_test)))"
   ]
  },
  {
   "cell_type": "code",
   "execution_count": 8,
   "metadata": {},
   "outputs": [
    {
     "name": "stdout",
     "output_type": "stream",
     "text": [
      "R-squared  score(train) : 0.533\n",
      "R-squared  score(test) : 0.528\n",
      "MAE for train data set : 100.16369720434854\n"
     ]
    }
   ],
   "source": [
    "# creating SVR model with C=1000 and gamma=1\n",
    "svr = SVR( epsilon = 0.01,kernel='linear', C=1, gamma=100)\n",
    "\n",
    "#calculating score and RME\n",
    "svr.fit(X_train, y_train)\n",
    "\n",
    "print('R-squared  score(train) : {:.3f}'\n",
    "     .format(svr.score(X_train,y_train)))\n",
    "print('R-squared  score(test) : {:.3f}'\n",
    "     .format(svr.score(X_test,y_test)))\n",
    "print('MAE for train data set :', metrics.mean_absolute_error(y_train, svr.predict(X_train)))\n"
   ]
  },
  {
   "cell_type": "code",
   "execution_count": 9,
   "metadata": {},
   "outputs": [
    {
     "name": "stdout",
     "output_type": "stream",
     "text": [
      "R-squared  score(train) : 0.695\n",
      "R-squared  score(test) : 0.696\n",
      "MAE for train data set : 73.42795674608746\n"
     ]
    }
   ],
   "source": [
    "svr_rbf = SVR( epsilon = 0.01,kernel='rbf', C=1000, gamma=0.001)\n",
    "svr_rbf.fit(X_train, y_train)\n",
    "print('R-squared  score(train) : {:.3f}'.format(svr_rbf.score(X_train,y_train)))\n",
    "print('R-squared  score(test) : {:.3f}'     .format(svr_rbf.score(X_test,y_test)))\n",
    "print('MAE for train data set :', metrics.mean_absolute_error(y_train, svr_rbf.predict(X_train)))"
   ]
  },
  {
   "cell_type": "code",
   "execution_count": 10,
   "metadata": {},
   "outputs": [
    {
     "name": "stdout",
     "output_type": "stream",
     "text": [
      "R-squared  score(train) : -0.067\n",
      "R-squared  score(test) : -0.056\n",
      "R-squared  score(train) bag_svr_rbf : -0.060\n",
      "R-squared  score(test) bag_svr_rbf: -0.051\n"
     ]
    }
   ],
   "source": [
    "# creating SVR model with C=1000 and gamma=1\n",
    "svr = SVR( epsilon = 0.01,kernel='linear', C=1, gamma=100)\n",
    "bag_svr = BaggingRegressor(svr, n_estimators=5, max_samples=100, bootstrap=True, n_jobs=-1)\n",
    "bag_svr_rbf = BaggingRegressor(svr_rbf, n_estimators=5, max_samples=100, bootstrap=True, n_jobs=-1)\n",
    "bag_svr.fit(X_train, y_train)\n",
    "bag_svr_rbf.fit(X_train, y_train)\n",
    "y_pred = bag_svr.predict(X_test)\n",
    "\n",
    "#calculating score and RME\n",
    "#svr.fit(X_train, y_train)\n",
    "\n",
    "print('R-squared  score(train) : {:.3f}'.format(bag_svr.score(X_train,y_train)))\n",
    "print('R-squared  score(test) : {:.3f}'.format(bag_svr.score(X_test,y_test)))\n",
    "\n",
    "\n",
    "print('R-squared  score(train) bag_svr_rbf : {:.3f}'.format(bag_svr_rbf.score(X_train,y_train)))\n",
    "print('R-squared  score(test) bag_svr_rbf: {:.3f}'.format(bag_svr_rbf.score(X_test,y_test)))\n"
   ]
  },
  {
   "cell_type": "code",
   "execution_count": 11,
   "metadata": {},
   "outputs": [],
   "source": [
    "from sklearn.ensemble import RandomForestRegressor\n",
    "\n",
    "rnd_clf = RandomForestRegressor(n_estimators=50, max_leaf_nodes=16, n_jobs=-1, random_state=0)\n",
    "rnd_clf.fit(X_train, y_train)\n",
    "\n",
    "y_pred_rf = rnd_clf.predict(X_test)\n",
    "\n"
   ]
  },
  {
   "cell_type": "code",
   "execution_count": 322,
   "metadata": {},
   "outputs": [
    {
     "name": "stdout",
     "output_type": "stream",
     "text": [
      "R-score on train set: 0.943\n",
      "R-score on train set: 0.951\n"
     ]
    }
   ],
   "source": [
    "print(\"R-score on train set: {:.3f}\".format(rnd_clf.score(X_train, y_train)))\n",
    "print(\"R-score on train set: {:.3f}\".format(rnd_clf.score(X_test, y_test)))\n"
   ]
  },
  {
   "cell_type": "markdown",
   "metadata": {},
   "source": [
    "**Pasting**"
   ]
  },
  {
   "cell_type": "markdown",
   "metadata": {},
   "source": [
    "Decision tree regressor model ,Support vector Regressor , Random forest Regressor has applied with Pasting"
   ]
  },
  {
   "cell_type": "code",
   "execution_count": 13,
   "metadata": {},
   "outputs": [],
   "source": [
    "from sklearn.ensemble import BaggingRegressor\n",
    "from sklearn.tree import DecisionTreeRegressor\n",
    "\n",
    "dt_clf = DecisionTreeRegressor()\n",
    "\n",
    "bag_clf = BaggingRegressor(dt_clf, n_estimators=50, max_samples=100, bootstrap=False, n_jobs=-1, random_state=0)\n",
    "dt_clf.fit(X_train, y_train)\n",
    "bag_clf.fit(X_train, y_train)\n",
    "y_pred = bag_clf.predict(X_test)"
   ]
  },
  {
   "cell_type": "code",
   "execution_count": 14,
   "metadata": {},
   "outputs": [
    {
     "name": "stdout",
     "output_type": "stream",
     "text": [
      "Train score bag_clf: 0.57\n",
      "Test score bag_clf: 0.54\n",
      "Train score dt_clf: 1.00\n",
      "Test score dt_clf: 0.91\n"
     ]
    }
   ],
   "source": [
    "#from  sklearn.metrics import accuracy_score\n",
    "#print(accuracy_score(y_test, y_pred))\n",
    "bag_clf.fit(X_train, y_train)\n",
    "print('Train score bag_clf: {:.2f}'.format(bag_clf.score(X_train, y_train)))\n",
    "print('Test score bag_clf: {:.2f}'.format(bag_clf.score(X_test, y_test)))\n",
    "print('Train score dt_clf: {:.2f}'.format(dt_clf.score(X_train, y_train)))\n",
    "print('Test score dt_clf: {:.2f}'.format(dt_clf.score(X_test, y_test)))"
   ]
  },
  {
   "cell_type": "code",
   "execution_count": 15,
   "metadata": {},
   "outputs": [
    {
     "name": "stdout",
     "output_type": "stream",
     "text": [
      "R-squared  score(train) : -0.071\n",
      "R-squared  score(test) : -0.060\n",
      "R-squared  score(train) bag_svr_rbf : -0.067\n",
      "R-squared  score(test) bag_svr_rbf: -0.056\n"
     ]
    }
   ],
   "source": [
    "svr = SVR( epsilon = 0.01,kernel='linear', C=1, gamma=100)\n",
    "bag_svr = BaggingRegressor(svr, n_estimators=5, max_samples=100, bootstrap=False, n_jobs=-1)\n",
    "bag_svr_rbf = BaggingRegressor(svr_rbf, n_estimators=5, max_samples=100, bootstrap=False, n_jobs=-1)\n",
    "bag_svr.fit(X_train, y_train)\n",
    "bag_svr_rbf.fit(X_train, y_train)\n",
    "y_pred = bag_svr.predict(X_test)\n",
    "\n",
    "#calculating score and RME\n",
    "#svr.fit(X_train, y_train)\n",
    "\n",
    "print('R-squared  score(train) : {:.3f}'.format(bag_svr.score(X_train,y_train)))\n",
    "print('R-squared  score(test) : {:.3f}'.format(bag_svr.score(X_test,y_test)))\n",
    "\n",
    "\n",
    "print('R-squared  score(train) bag_svr_rbf : {:.3f}'.format(bag_svr_rbf.score(X_train,y_train)))\n",
    "print('R-squared  score(test) bag_svr_rbf: {:.3f}'.format(bag_svr_rbf.score(X_test,y_test)))"
   ]
  },
  {
   "cell_type": "code",
   "execution_count": 16,
   "metadata": {},
   "outputs": [
    {
     "name": "stdout",
     "output_type": "stream",
     "text": [
      "Accuracy on training set: 0.943\n",
      "Accuracy on test set: 0.951\n"
     ]
    }
   ],
   "source": [
    "from sklearn.ensemble import RandomForestRegressor\n",
    "\n",
    "rnd_clf = RandomForestRegressor(n_estimators=50, max_leaf_nodes=16, n_jobs=-1, random_state=0)\n",
    "rnd_clf.fit(X_train, y_train)\n",
    "\n",
    "y_pred_rf = rnd_clf.predict(X_test)\n",
    "\n",
    "print(\"Accuracy on training set: {:.3f}\".format(rnd_clf.score(X_train, y_train)))\n",
    "print(\"Accuracy on test set: {:.3f}\".format(rnd_clf.score(X_test, y_test)))"
   ]
  },
  {
   "cell_type": "markdown",
   "metadata": {},
   "source": [
    "**ADABOOSTING  With Decision Tree and Support vector Regressor**"
   ]
  },
  {
   "cell_type": "code",
   "execution_count": 45,
   "metadata": {},
   "outputs": [
    {
     "name": "stdout",
     "output_type": "stream",
     "text": [
      "R-squared  score(train) : -0.204\n",
      "R-squared  score(test) : 0.023\n"
     ]
    }
   ],
   "source": [
    "from sklearn.ensemble import AdaBoostRegressor\n",
    "\n",
    "#X, y = make_moons(n_samples=500, noise=0.30, random_state=0)\n",
    "#X_train, X_test, y_train, y_test = train_test_split(X, y, random_state=0)\n",
    "\n",
    "ada_dtreg=AdaBoostRegressor(DecisionTreeRegressor(max_depth=3), n_estimators=50, learning_rate=1.0, loss='linear', random_state=None)\n",
    "#AdaBoostRegressor(DecisionTreeClassifier(max_depth=1), n_estimators=200, algorithm=\"SAMME.R\", learning_rate=0.5, random_state=0)\n",
    "ada_dtreg.fit(X_train, y_train)\n",
    "\n",
    "\n",
    "print('R-squared  score(train) : {:.3f}'.format(ada_dtreg.score(X_train,y_train)))\n",
    "print('R-squared  score(test) : {:.3f}' .format(ada_dtreg.score(X_test,y_test)))\n"
   ]
  },
  {
   "cell_type": "code",
   "execution_count": 46,
   "metadata": {},
   "outputs": [
    {
     "name": "stderr",
     "output_type": "stream",
     "text": [
      "C:\\Users\\amruu\\AppData\\Local\\Continuum\\anaconda3\\lib\\site-packages\\sklearn\\ensemble\\forest.py:246: FutureWarning: The default value of n_estimators will change from 10 in version 0.20 to 100 in 0.22.\n",
      "  \"10 in version 0.20 to 100 in 0.22.\", FutureWarning)\n",
      "C:\\Users\\amruu\\AppData\\Local\\Continuum\\anaconda3\\lib\\site-packages\\sklearn\\ensemble\\forest.py:246: FutureWarning: The default value of n_estimators will change from 10 in version 0.20 to 100 in 0.22.\n",
      "  \"10 in version 0.20 to 100 in 0.22.\", FutureWarning)\n",
      "C:\\Users\\amruu\\AppData\\Local\\Continuum\\anaconda3\\lib\\site-packages\\sklearn\\ensemble\\forest.py:246: FutureWarning: The default value of n_estimators will change from 10 in version 0.20 to 100 in 0.22.\n",
      "  \"10 in version 0.20 to 100 in 0.22.\", FutureWarning)\n",
      "C:\\Users\\amruu\\AppData\\Local\\Continuum\\anaconda3\\lib\\site-packages\\sklearn\\ensemble\\forest.py:246: FutureWarning: The default value of n_estimators will change from 10 in version 0.20 to 100 in 0.22.\n",
      "  \"10 in version 0.20 to 100 in 0.22.\", FutureWarning)\n",
      "C:\\Users\\amruu\\AppData\\Local\\Continuum\\anaconda3\\lib\\site-packages\\sklearn\\ensemble\\forest.py:246: FutureWarning: The default value of n_estimators will change from 10 in version 0.20 to 100 in 0.22.\n",
      "  \"10 in version 0.20 to 100 in 0.22.\", FutureWarning)\n",
      "C:\\Users\\amruu\\AppData\\Local\\Continuum\\anaconda3\\lib\\site-packages\\sklearn\\ensemble\\forest.py:246: FutureWarning: The default value of n_estimators will change from 10 in version 0.20 to 100 in 0.22.\n",
      "  \"10 in version 0.20 to 100 in 0.22.\", FutureWarning)\n",
      "C:\\Users\\amruu\\AppData\\Local\\Continuum\\anaconda3\\lib\\site-packages\\sklearn\\ensemble\\forest.py:246: FutureWarning: The default value of n_estimators will change from 10 in version 0.20 to 100 in 0.22.\n",
      "  \"10 in version 0.20 to 100 in 0.22.\", FutureWarning)\n",
      "C:\\Users\\amruu\\AppData\\Local\\Continuum\\anaconda3\\lib\\site-packages\\sklearn\\ensemble\\forest.py:246: FutureWarning: The default value of n_estimators will change from 10 in version 0.20 to 100 in 0.22.\n",
      "  \"10 in version 0.20 to 100 in 0.22.\", FutureWarning)\n",
      "C:\\Users\\amruu\\AppData\\Local\\Continuum\\anaconda3\\lib\\site-packages\\sklearn\\ensemble\\forest.py:246: FutureWarning: The default value of n_estimators will change from 10 in version 0.20 to 100 in 0.22.\n",
      "  \"10 in version 0.20 to 100 in 0.22.\", FutureWarning)\n",
      "C:\\Users\\amruu\\AppData\\Local\\Continuum\\anaconda3\\lib\\site-packages\\sklearn\\ensemble\\forest.py:246: FutureWarning: The default value of n_estimators will change from 10 in version 0.20 to 100 in 0.22.\n",
      "  \"10 in version 0.20 to 100 in 0.22.\", FutureWarning)\n",
      "C:\\Users\\amruu\\AppData\\Local\\Continuum\\anaconda3\\lib\\site-packages\\sklearn\\ensemble\\forest.py:246: FutureWarning: The default value of n_estimators will change from 10 in version 0.20 to 100 in 0.22.\n",
      "  \"10 in version 0.20 to 100 in 0.22.\", FutureWarning)\n",
      "C:\\Users\\amruu\\AppData\\Local\\Continuum\\anaconda3\\lib\\site-packages\\sklearn\\ensemble\\forest.py:246: FutureWarning: The default value of n_estimators will change from 10 in version 0.20 to 100 in 0.22.\n",
      "  \"10 in version 0.20 to 100 in 0.22.\", FutureWarning)\n",
      "C:\\Users\\amruu\\AppData\\Local\\Continuum\\anaconda3\\lib\\site-packages\\sklearn\\ensemble\\forest.py:246: FutureWarning: The default value of n_estimators will change from 10 in version 0.20 to 100 in 0.22.\n",
      "  \"10 in version 0.20 to 100 in 0.22.\", FutureWarning)\n",
      "C:\\Users\\amruu\\AppData\\Local\\Continuum\\anaconda3\\lib\\site-packages\\sklearn\\ensemble\\forest.py:246: FutureWarning: The default value of n_estimators will change from 10 in version 0.20 to 100 in 0.22.\n",
      "  \"10 in version 0.20 to 100 in 0.22.\", FutureWarning)\n",
      "C:\\Users\\amruu\\AppData\\Local\\Continuum\\anaconda3\\lib\\site-packages\\sklearn\\ensemble\\forest.py:246: FutureWarning: The default value of n_estimators will change from 10 in version 0.20 to 100 in 0.22.\n",
      "  \"10 in version 0.20 to 100 in 0.22.\", FutureWarning)\n",
      "C:\\Users\\amruu\\AppData\\Local\\Continuum\\anaconda3\\lib\\site-packages\\sklearn\\ensemble\\forest.py:246: FutureWarning: The default value of n_estimators will change from 10 in version 0.20 to 100 in 0.22.\n",
      "  \"10 in version 0.20 to 100 in 0.22.\", FutureWarning)\n",
      "C:\\Users\\amruu\\AppData\\Local\\Continuum\\anaconda3\\lib\\site-packages\\sklearn\\ensemble\\forest.py:246: FutureWarning: The default value of n_estimators will change from 10 in version 0.20 to 100 in 0.22.\n",
      "  \"10 in version 0.20 to 100 in 0.22.\", FutureWarning)\n",
      "C:\\Users\\amruu\\AppData\\Local\\Continuum\\anaconda3\\lib\\site-packages\\sklearn\\ensemble\\forest.py:246: FutureWarning: The default value of n_estimators will change from 10 in version 0.20 to 100 in 0.22.\n",
      "  \"10 in version 0.20 to 100 in 0.22.\", FutureWarning)\n",
      "C:\\Users\\amruu\\AppData\\Local\\Continuum\\anaconda3\\lib\\site-packages\\sklearn\\ensemble\\forest.py:246: FutureWarning: The default value of n_estimators will change from 10 in version 0.20 to 100 in 0.22.\n",
      "  \"10 in version 0.20 to 100 in 0.22.\", FutureWarning)\n",
      "C:\\Users\\amruu\\AppData\\Local\\Continuum\\anaconda3\\lib\\site-packages\\sklearn\\ensemble\\forest.py:246: FutureWarning: The default value of n_estimators will change from 10 in version 0.20 to 100 in 0.22.\n",
      "  \"10 in version 0.20 to 100 in 0.22.\", FutureWarning)\n",
      "C:\\Users\\amruu\\AppData\\Local\\Continuum\\anaconda3\\lib\\site-packages\\sklearn\\ensemble\\forest.py:246: FutureWarning: The default value of n_estimators will change from 10 in version 0.20 to 100 in 0.22.\n",
      "  \"10 in version 0.20 to 100 in 0.22.\", FutureWarning)\n",
      "C:\\Users\\amruu\\AppData\\Local\\Continuum\\anaconda3\\lib\\site-packages\\sklearn\\ensemble\\forest.py:246: FutureWarning: The default value of n_estimators will change from 10 in version 0.20 to 100 in 0.22.\n",
      "  \"10 in version 0.20 to 100 in 0.22.\", FutureWarning)\n",
      "C:\\Users\\amruu\\AppData\\Local\\Continuum\\anaconda3\\lib\\site-packages\\sklearn\\ensemble\\forest.py:246: FutureWarning: The default value of n_estimators will change from 10 in version 0.20 to 100 in 0.22.\n",
      "  \"10 in version 0.20 to 100 in 0.22.\", FutureWarning)\n",
      "C:\\Users\\amruu\\AppData\\Local\\Continuum\\anaconda3\\lib\\site-packages\\sklearn\\ensemble\\forest.py:246: FutureWarning: The default value of n_estimators will change from 10 in version 0.20 to 100 in 0.22.\n",
      "  \"10 in version 0.20 to 100 in 0.22.\", FutureWarning)\n",
      "C:\\Users\\amruu\\AppData\\Local\\Continuum\\anaconda3\\lib\\site-packages\\sklearn\\ensemble\\forest.py:246: FutureWarning: The default value of n_estimators will change from 10 in version 0.20 to 100 in 0.22.\n",
      "  \"10 in version 0.20 to 100 in 0.22.\", FutureWarning)\n",
      "C:\\Users\\amruu\\AppData\\Local\\Continuum\\anaconda3\\lib\\site-packages\\sklearn\\ensemble\\forest.py:246: FutureWarning: The default value of n_estimators will change from 10 in version 0.20 to 100 in 0.22.\n",
      "  \"10 in version 0.20 to 100 in 0.22.\", FutureWarning)\n",
      "C:\\Users\\amruu\\AppData\\Local\\Continuum\\anaconda3\\lib\\site-packages\\sklearn\\ensemble\\forest.py:246: FutureWarning: The default value of n_estimators will change from 10 in version 0.20 to 100 in 0.22.\n",
      "  \"10 in version 0.20 to 100 in 0.22.\", FutureWarning)\n",
      "C:\\Users\\amruu\\AppData\\Local\\Continuum\\anaconda3\\lib\\site-packages\\sklearn\\ensemble\\forest.py:246: FutureWarning: The default value of n_estimators will change from 10 in version 0.20 to 100 in 0.22.\n",
      "  \"10 in version 0.20 to 100 in 0.22.\", FutureWarning)\n",
      "C:\\Users\\amruu\\AppData\\Local\\Continuum\\anaconda3\\lib\\site-packages\\sklearn\\ensemble\\forest.py:246: FutureWarning: The default value of n_estimators will change from 10 in version 0.20 to 100 in 0.22.\n",
      "  \"10 in version 0.20 to 100 in 0.22.\", FutureWarning)\n",
      "C:\\Users\\amruu\\AppData\\Local\\Continuum\\anaconda3\\lib\\site-packages\\sklearn\\ensemble\\forest.py:246: FutureWarning: The default value of n_estimators will change from 10 in version 0.20 to 100 in 0.22.\n",
      "  \"10 in version 0.20 to 100 in 0.22.\", FutureWarning)\n",
      "C:\\Users\\amruu\\AppData\\Local\\Continuum\\anaconda3\\lib\\site-packages\\sklearn\\ensemble\\forest.py:246: FutureWarning: The default value of n_estimators will change from 10 in version 0.20 to 100 in 0.22.\n",
      "  \"10 in version 0.20 to 100 in 0.22.\", FutureWarning)\n",
      "C:\\Users\\amruu\\AppData\\Local\\Continuum\\anaconda3\\lib\\site-packages\\sklearn\\ensemble\\forest.py:246: FutureWarning: The default value of n_estimators will change from 10 in version 0.20 to 100 in 0.22.\n",
      "  \"10 in version 0.20 to 100 in 0.22.\", FutureWarning)\n",
      "C:\\Users\\amruu\\AppData\\Local\\Continuum\\anaconda3\\lib\\site-packages\\sklearn\\ensemble\\forest.py:246: FutureWarning: The default value of n_estimators will change from 10 in version 0.20 to 100 in 0.22.\n",
      "  \"10 in version 0.20 to 100 in 0.22.\", FutureWarning)\n"
     ]
    },
    {
     "name": "stderr",
     "output_type": "stream",
     "text": [
      "C:\\Users\\amruu\\AppData\\Local\\Continuum\\anaconda3\\lib\\site-packages\\sklearn\\ensemble\\forest.py:246: FutureWarning: The default value of n_estimators will change from 10 in version 0.20 to 100 in 0.22.\n",
      "  \"10 in version 0.20 to 100 in 0.22.\", FutureWarning)\n",
      "C:\\Users\\amruu\\AppData\\Local\\Continuum\\anaconda3\\lib\\site-packages\\sklearn\\ensemble\\forest.py:246: FutureWarning: The default value of n_estimators will change from 10 in version 0.20 to 100 in 0.22.\n",
      "  \"10 in version 0.20 to 100 in 0.22.\", FutureWarning)\n",
      "C:\\Users\\amruu\\AppData\\Local\\Continuum\\anaconda3\\lib\\site-packages\\sklearn\\ensemble\\forest.py:246: FutureWarning: The default value of n_estimators will change from 10 in version 0.20 to 100 in 0.22.\n",
      "  \"10 in version 0.20 to 100 in 0.22.\", FutureWarning)\n",
      "C:\\Users\\amruu\\AppData\\Local\\Continuum\\anaconda3\\lib\\site-packages\\sklearn\\ensemble\\forest.py:246: FutureWarning: The default value of n_estimators will change from 10 in version 0.20 to 100 in 0.22.\n",
      "  \"10 in version 0.20 to 100 in 0.22.\", FutureWarning)\n",
      "C:\\Users\\amruu\\AppData\\Local\\Continuum\\anaconda3\\lib\\site-packages\\sklearn\\ensemble\\forest.py:246: FutureWarning: The default value of n_estimators will change from 10 in version 0.20 to 100 in 0.22.\n",
      "  \"10 in version 0.20 to 100 in 0.22.\", FutureWarning)\n",
      "C:\\Users\\amruu\\AppData\\Local\\Continuum\\anaconda3\\lib\\site-packages\\sklearn\\ensemble\\forest.py:246: FutureWarning: The default value of n_estimators will change from 10 in version 0.20 to 100 in 0.22.\n",
      "  \"10 in version 0.20 to 100 in 0.22.\", FutureWarning)\n",
      "C:\\Users\\amruu\\AppData\\Local\\Continuum\\anaconda3\\lib\\site-packages\\sklearn\\ensemble\\forest.py:246: FutureWarning: The default value of n_estimators will change from 10 in version 0.20 to 100 in 0.22.\n",
      "  \"10 in version 0.20 to 100 in 0.22.\", FutureWarning)\n",
      "C:\\Users\\amruu\\AppData\\Local\\Continuum\\anaconda3\\lib\\site-packages\\sklearn\\ensemble\\forest.py:246: FutureWarning: The default value of n_estimators will change from 10 in version 0.20 to 100 in 0.22.\n",
      "  \"10 in version 0.20 to 100 in 0.22.\", FutureWarning)\n",
      "C:\\Users\\amruu\\AppData\\Local\\Continuum\\anaconda3\\lib\\site-packages\\sklearn\\ensemble\\forest.py:246: FutureWarning: The default value of n_estimators will change from 10 in version 0.20 to 100 in 0.22.\n",
      "  \"10 in version 0.20 to 100 in 0.22.\", FutureWarning)\n",
      "C:\\Users\\amruu\\AppData\\Local\\Continuum\\anaconda3\\lib\\site-packages\\sklearn\\ensemble\\forest.py:246: FutureWarning: The default value of n_estimators will change from 10 in version 0.20 to 100 in 0.22.\n",
      "  \"10 in version 0.20 to 100 in 0.22.\", FutureWarning)\n",
      "C:\\Users\\amruu\\AppData\\Local\\Continuum\\anaconda3\\lib\\site-packages\\sklearn\\ensemble\\forest.py:246: FutureWarning: The default value of n_estimators will change from 10 in version 0.20 to 100 in 0.22.\n",
      "  \"10 in version 0.20 to 100 in 0.22.\", FutureWarning)\n",
      "C:\\Users\\amruu\\AppData\\Local\\Continuum\\anaconda3\\lib\\site-packages\\sklearn\\ensemble\\forest.py:246: FutureWarning: The default value of n_estimators will change from 10 in version 0.20 to 100 in 0.22.\n",
      "  \"10 in version 0.20 to 100 in 0.22.\", FutureWarning)\n",
      "C:\\Users\\amruu\\AppData\\Local\\Continuum\\anaconda3\\lib\\site-packages\\sklearn\\ensemble\\forest.py:246: FutureWarning: The default value of n_estimators will change from 10 in version 0.20 to 100 in 0.22.\n",
      "  \"10 in version 0.20 to 100 in 0.22.\", FutureWarning)\n",
      "C:\\Users\\amruu\\AppData\\Local\\Continuum\\anaconda3\\lib\\site-packages\\sklearn\\ensemble\\forest.py:246: FutureWarning: The default value of n_estimators will change from 10 in version 0.20 to 100 in 0.22.\n",
      "  \"10 in version 0.20 to 100 in 0.22.\", FutureWarning)\n",
      "C:\\Users\\amruu\\AppData\\Local\\Continuum\\anaconda3\\lib\\site-packages\\sklearn\\ensemble\\forest.py:246: FutureWarning: The default value of n_estimators will change from 10 in version 0.20 to 100 in 0.22.\n",
      "  \"10 in version 0.20 to 100 in 0.22.\", FutureWarning)\n",
      "C:\\Users\\amruu\\AppData\\Local\\Continuum\\anaconda3\\lib\\site-packages\\sklearn\\ensemble\\forest.py:246: FutureWarning: The default value of n_estimators will change from 10 in version 0.20 to 100 in 0.22.\n",
      "  \"10 in version 0.20 to 100 in 0.22.\", FutureWarning)\n",
      "C:\\Users\\amruu\\AppData\\Local\\Continuum\\anaconda3\\lib\\site-packages\\sklearn\\ensemble\\forest.py:246: FutureWarning: The default value of n_estimators will change from 10 in version 0.20 to 100 in 0.22.\n",
      "  \"10 in version 0.20 to 100 in 0.22.\", FutureWarning)\n"
     ]
    },
    {
     "name": "stdout",
     "output_type": "stream",
     "text": [
      "R-squared  score(train) for Random forest regressor : 1.000\n",
      "R-squared  score(test) for Random forest regressor: 0.960\n"
     ]
    }
   ],
   "source": [
    "from sklearn.ensemble import AdaBoostRegressor\n",
    "\n",
    "#X, y = make_moons(n_samples=500, noise=0.30, random_state=0)\n",
    "#X_train, X_test, y_train, y_test = train_test_split(X, y, random_state=0)\n",
    "\n",
    "ada_svr =AdaBoostRegressor(RandomForestRegressor(), n_estimators=50, learning_rate=1.0, loss='linear', random_state=None)\n",
    "ada_svr.fit(X_train, y_train)\n",
    "\n",
    "\n",
    "print('R-squared  score(train) for Random forest regressor : {:.3f}'.format(ada_svr.score(X_train,y_train)))\n",
    "print('R-squared  score(test) for Random forest regressor: {:.3f}' .format(ada_svr.score(X_test,y_test)))\n"
   ]
  },
  {
   "cell_type": "markdown",
   "metadata": {},
   "source": [
    "R-squared  score(train) for Random forest regressor : 1.000\n"
   ]
  },
  {
   "cell_type": "markdown",
   "metadata": {},
   "source": [
    "R-squared  score(test) for Random forest regressor: 0.960"
   ]
  },
  {
   "cell_type": "markdown",
   "metadata": {},
   "source": [
    "**GRADIENT BOOSTING**"
   ]
  },
  {
   "cell_type": "code",
   "execution_count": null,
   "metadata": {},
   "outputs": [],
   "source": [
    "\n",
    "gbrt = GradientBoostingRegressor(max_depth=2, n_estimators=3, learning_rate=1.0, random_state=42)\n",
    "gbrt.fit(X, y)"
   ]
  },
  {
   "cell_type": "markdown",
   "metadata": {},
   "source": [
    "**PCA is applied**"
   ]
  },
  {
   "cell_type": "code",
   "execution_count": 7,
   "metadata": {},
   "outputs": [],
   "source": [
    "#creating PCA with 5 variables\n",
    "pca = PCA(n_components=3)\n",
    "principalComponents = pca.fit_transform(X)"
   ]
  },
  {
   "cell_type": "code",
   "execution_count": 8,
   "metadata": {},
   "outputs": [
    {
     "data": {
      "text/plain": [
       "array([0.91496289, 0.02055542, 0.01469267])"
      ]
     },
     "execution_count": 8,
     "metadata": {},
     "output_type": "execute_result"
    }
   ],
   "source": [
    "#understand the variation of the PCA\n",
    "pca.components_\n",
    "pca.explained_variance_ratio_\n"
   ]
  },
  {
   "cell_type": "code",
   "execution_count": 9,
   "metadata": {},
   "outputs": [
    {
     "data": {
      "text/plain": [
       "0.049789011326192734"
      ]
     },
     "execution_count": 9,
     "metadata": {},
     "output_type": "execute_result"
    }
   ],
   "source": [
    "#understand the total variation contributed by 3 PCA \n",
    "1 - pca.explained_variance_ratio_.sum()"
   ]
  },
  {
   "cell_type": "markdown",
   "metadata": {},
   "source": [
    "There are 3 PC components which covers 95 percent of the variations in the 77 columns and hence we can reduce to 3 PC components"
   ]
  },
  {
   "cell_type": "code",
   "execution_count": 10,
   "metadata": {},
   "outputs": [],
   "source": [
    "#to have a sequential index\n",
    "y_PCA = y.reset_index()\n",
    "\n",
    "#creating a data frame for PCA output\n",
    "principalDf = pd.DataFrame(data = principalComponents\n",
    "             , columns = ['principal component 1', 'principal component 2','principal component 3'])\n",
    "\n",
    "#Concatenating the two data frame \n",
    "finalDf = pd.concat([principalDf, y_PCA], axis = 1)\n",
    "finalDf.shape\n",
    "\n",
    "#creating the Xtemp and y temp to select only the required columns\n",
    "X_temp = finalDf[['principal component 1', 'principal component 2','principal component 3']]\n",
    "y_temp = finalDf['Target']\n",
    "\n",
    "#train and test split \n",
    "X_train1, X_test1, y_train1, y_test1 = train_test_split(X_temp, y_temp, random_state = 0, test_size = 0.2)"
   ]
  },
  {
   "cell_type": "markdown",
   "metadata": {},
   "source": [
    "Running a basic linear regression model"
   ]
  },
  {
   "cell_type": "code",
   "execution_count": 11,
   "metadata": {},
   "outputs": [
    {
     "name": "stdout",
     "output_type": "stream",
     "text": [
      "training_score 0.9170171329301148\n",
      "test_score 0.9158811701767884\n"
     ]
    }
   ],
   "source": [
    "lreg = LinearRegression()\n",
    "lreg.fit(X_train1,y_train1)\n",
    "print('training_score',lreg.score(X_train1, y_train1))\n",
    "print('test_score',lreg.score(X_test1, y_test1))\n",
    "\n",
    "#Pushing the results into another table \n",
    "report_table_n = [['Linear Regression', 'NA',lreg.score(X_train1, y_train1),lreg.score(X_test1, y_test1)]]"
   ]
  },
  {
   "cell_type": "markdown",
   "metadata": {},
   "source": [
    "Polynomial Regression"
   ]
  },
  {
   "cell_type": "code",
   "execution_count": 13,
   "metadata": {},
   "outputs": [
    {
     "name": "stdout",
     "output_type": "stream",
     "text": [
      "[0.9170171329301148, 0.9300714893619608, 0.9401790240697022]\n",
      "[0.9158811701767884, 0.9159094270379954, 0.9217825722727635]\n"
     ]
    }
   ],
   "source": [
    "train_score_list = []\n",
    "test_score_list = []\n",
    "\n",
    "for n in range(1,4):\n",
    "    poly = PolynomialFeatures(n)\n",
    "    X_train_poly = poly.fit_transform(X_train1)\n",
    "    X_test_poly = poly.transform(X_test1)\n",
    "    lreg.fit(X_train_poly, y_train1)\n",
    "    train_score_list.append(lreg.score(X_train_poly, y_train1))\n",
    "    test_score_list.append(lreg.score(X_test_poly, y_test1))\n",
    "    report_table_n = report_table_n + [['Polynomial  Regression', n, lreg.score(X_train_poly, y_train1), lreg.score(X_test_poly, y_test1)]]\n",
    "print(train_score_list)\n",
    "print(test_score_list)"
   ]
  },
  {
   "cell_type": "markdown",
   "metadata": {},
   "source": [
    "Polynomial regression with 2 degree"
   ]
  },
  {
   "cell_type": "code",
   "execution_count": 14,
   "metadata": {},
   "outputs": [
    {
     "name": "stdout",
     "output_type": "stream",
     "text": [
      "R - Score on train set: 0.9300714893619608\n",
      "R - Score on test set: 0.9159094270379954\n"
     ]
    }
   ],
   "source": [
    "poly = PolynomialFeatures(2)\n",
    "X_train_poly = poly.fit_transform(X_train1)\n",
    "X_test_poly = poly.transform(X_test1)\n",
    "lreg.fit(X_train_poly, y_train1)\n",
    "train_score_list=lreg.score(X_train_poly, y_train1)\n",
    "test_score_list=lreg.score(X_test_poly, y_test1)\n",
    "print(\"R - Score on train set:\",train_score_list)\n",
    "print(\"R - Score on test set:\",test_score_list)"
   ]
  },
  {
   "cell_type": "markdown",
   "metadata": {},
   "source": [
    "Polynomial ridge regression"
   ]
  },
  {
   "cell_type": "code",
   "execution_count": 15,
   "metadata": {},
   "outputs": [
    {
     "name": "stdout",
     "output_type": "stream",
     "text": [
      "[0.9300714893619608]\n",
      "[0.9159094270379177]\n",
      "[0.9300714893619608, 0.9300714893619608]\n",
      "[0.9159094270379177, 0.9159094270379791]\n",
      "[0.9300714893619608, 0.9300714893619608, 0.9300714893619608]\n",
      "[0.9159094270379177, 0.9159094270379791, 0.9159094270385932]\n",
      "[0.9300714893619608, 0.9300714893619608, 0.9300714893619608, 0.9300714893619608]\n",
      "[0.9159094270379177, 0.9159094270379791, 0.9159094270385932, 0.9159094270447354]\n",
      "[0.9300714893619608, 0.9300714893619608, 0.9300714893619608, 0.9300714893619608, 0.9300714893619608]\n",
      "[0.9159094270379177, 0.9159094270379791, 0.9159094270385932, 0.9159094270447354, 0.9159094271061574]\n"
     ]
    }
   ],
   "source": [
    "#trial for alpha values for polynomial ridge\n",
    "x_range = [0.01, 0.1, 1, 10, 100]\n",
    "\n",
    "train_score_list = []\n",
    "test_score_list = []\n",
    "\n",
    "poly = PolynomialFeatures(2)\n",
    "X_train_poly = poly.fit_transform(X_train1)\n",
    "X_test_poly = poly.transform(X_test1)\n",
    "    \n",
    "for alpha_1 in x_range: \n",
    "    ridge = Ridge(alpha_1)\n",
    "    ridge.fit(X_train_poly,y_train1)\n",
    "    train_score_list.append(ridge.score(X_train_poly,y_train1))\n",
    "    test_score_list.append(ridge.score(X_test_poly, y_test1))\n",
    "    report_table_n = report_table_n + [['Ridge regression', alpha_1, ridge.score(X_train_poly,y_train1), ridge.score(X_test_poly, y_test1)]]     \n",
    "    print(train_score_list)\n",
    "    print(test_score_list)   "
   ]
  },
  {
   "cell_type": "markdown",
   "metadata": {},
   "source": [
    "Ridge regression with poly - 2 "
   ]
  },
  {
   "cell_type": "code",
   "execution_count": 16,
   "metadata": {},
   "outputs": [
    {
     "name": "stdout",
     "output_type": "stream",
     "text": [
      "train_score  poly ridge  0.9300714893619608\n",
      "test_score  poly ridge 0.9159094270379708\n"
     ]
    }
   ],
   "source": [
    "##Polynomial ridge degree 2 with alpha 0.001 as best param \n",
    "poly = PolynomialFeatures(2)\n",
    "X_train_poly = poly.fit_transform(X_train1)\n",
    "X_test_poly = poly.transform(X_test1)\n",
    "linridge = Ridge(alpha =0).fit(X_train_poly, y_train1)\n",
    "r2_train = linridge.score(X_train_poly, y_train1)\n",
    "r2_test = linridge.score(X_test_poly, y_test1)\n",
    "print(\"train_score  poly ridge \",  r2_train)\n",
    "print(\"test_score  poly ridge\",r2_test)"
   ]
  },
  {
   "cell_type": "markdown",
   "metadata": {},
   "source": [
    "Lasso ridge regression "
   ]
  },
  {
   "cell_type": "code",
   "execution_count": 17,
   "metadata": {},
   "outputs": [
    {
     "name": "stdout",
     "output_type": "stream",
     "text": [
      "Lasso regression: effect of alpha regularization parameter\n",
      "\n",
      "Alpha = 0.10\n",
      "num abs(coeff) > 1.0: 0,     r-squared training: 0.93, r-squared test: 0.92\n",
      "\n",
      "Alpha = 0.00\n",
      "num abs(coeff) > 1.0: 0,     r-squared training: 0.93, r-squared test: 0.92\n",
      "\n",
      "Alpha = 1.00\n",
      "num abs(coeff) > 1.0: 0,     r-squared training: 0.93, r-squared test: 0.92\n",
      "\n"
     ]
    }
   ],
   "source": [
    "print('Lasso regression: effect of alpha regularization parameter\\n')\n",
    "for this_alpha in [0.1,0,1]:\n",
    "    linlasso = Lasso(alpha = this_alpha).fit(X_train_poly, y_train1)\n",
    "    r2_train = linlasso.score(X_train_poly, y_train1)\n",
    "    r2_test = linlasso.score(X_test_poly, y_test1)\n",
    "    num_coeff_bigger = np.sum(abs(linlasso.coef_) > 1.0)\n",
    "    print('Alpha = {:.2f}\\nnum abs(coeff) > 1.0: {}, \\\n",
    "    r-squared training: {:.2f}, r-squared test: {:.2f}\\n'\n",
    "    .format(this_alpha, num_coeff_bigger, r2_train, r2_test))\n",
    "    report_table_n = report_table_n + [['Lasso regression', this_alpha, linlasso.score(X_train_poly, y_train1), linlasso.score(X_test_poly, y_test1)]]"
   ]
  },
  {
   "cell_type": "markdown",
   "metadata": {},
   "source": [
    "Running a KNN regressor "
   ]
  },
  {
   "cell_type": "code",
   "execution_count": 18,
   "metadata": {},
   "outputs": [
    {
     "data": {
      "text/plain": [
       "Text(0,0.5,'MSE')"
      ]
     },
     "execution_count": 18,
     "metadata": {},
     "output_type": "execute_result"
    },
    {
     "data": {
      "image/png": "[encoded data removed]",
      "text/plain": [
       "<Figure size 432x288 with 1 Axes>"
      ]
     },
     "metadata": {
      "needs_background": "light"
     },
     "output_type": "display_data"
    }
   ],
   "source": [
    "train_score_array = []\n",
    "test_score_array = []\n",
    "\n",
    "for k in range(1,10):\n",
    "    knn_reg = KNeighborsRegressor(k)\n",
    "    knn_reg.fit(X_train1, y_train1)\n",
    "    train_score_array.append(knn_reg.score(X_train1, y_train1))\n",
    "    test_score_array.append(knn_reg.score(X_test1, y_test1))\n",
    "    report_table_n = report_table_n + [['KNN', k, knn_reg.score(X_train1, y_train1), knn_reg.score(X_test1, y_test1)]]\n",
    "    \n",
    "x_axis = range(1,10)\n",
    "plt.plot(x_axis, train_score_array, c = 'g', label = 'Train Score')\n",
    "plt.plot(x_axis, test_score_array, c = 'b', label = 'Test Score')\n",
    "plt.legend()\n",
    "plt.xlabel('k')\n",
    "plt.ylabel('MSE')"
   ]
  },
  {
   "cell_type": "code",
   "execution_count": null,
   "metadata": {},
   "outputs": [],
   "source": [
    "# creating SVR model with C=1000 and gamma=1\n",
    "svr = SVR( epsilon = 0.01,kernel='linear', C=1, gamma=100)\n",
    "\n",
    "#calculating score and RME\n",
    "svr.fit(X_train1, y_train1)\n",
    "\n",
    "print('R-squared  score(train) : {:.3f}'\n",
    "     .format(svr.score(X_train1,y_train1)))\n",
    "print('R-squared  score(test) : {:.3f}'\n",
    "     .format(svr.score(X_test1,y_test1)))\n",
    "print('MAE for train data set :', metrics.mean_absolute_error(y_train1, svr.predict(X_train1)))"
   ]
  },
  {
   "cell_type": "code",
   "execution_count": 27,
   "metadata": {},
   "outputs": [],
   "source": [
    "report_table = [['Linear Regression', 'NA',0.2585639937596278,0.23331954903976784]]\n",
    "report_table = report_table + [['Polynomial  Regression', 'n(degree) = 3', 0.8424987474651632, 0.8022873007586617]]\n",
    "report_table = report_table + [['Lasso', 'alpha=0.1',0.72 ,0.66]]\n",
    "report_table = report_table + [['SVR', 'epsilon = 0.01 , Gamma=100', 0.8424987625421968, 0.8022873007586617]]\n",
    "report_table = report_table + [['Knn Regressor', 'n=4', 0.724987625421968, 0.7022873007586617]]"
   ]
  },
  {
   "cell_type": "code",
   "execution_count": 28,
   "metadata": {},
   "outputs": [
    {
     "data": {
      "text/html": [
       "<div>\n",
       "<style scoped>\n",
       "    .dataframe tbody tr th:only-of-type {\n",
       "        vertical-align: middle;\n",
       "    }\n",
       "\n",
       "    .dataframe tbody tr th {\n",
       "        vertical-align: top;\n",
       "    }\n",
       "\n",
       "    .dataframe thead th {\n",
       "        text-align: right;\n",
       "    }\n",
       "</style>\n",
       "<table border=\"1\" class=\"dataframe\">\n",
       "  <thead>\n",
       "    <tr style=\"text-align: right;\">\n",
       "      <th></th>\n",
       "      <th>Model name</th>\n",
       "      <th>Model parameter</th>\n",
       "      <th>Train R Score</th>\n",
       "      <th>Test R score</th>\n",
       "    </tr>\n",
       "    <tr>\n",
       "      <th>Model name</th>\n",
       "      <th></th>\n",
       "      <th></th>\n",
       "      <th></th>\n",
       "      <th></th>\n",
       "    </tr>\n",
       "  </thead>\n",
       "  <tbody>\n",
       "    <tr>\n",
       "      <th>Polynomial  Regression</th>\n",
       "      <td>Polynomial  Regression</td>\n",
       "      <td>n(degree) = 3</td>\n",
       "      <td>0.842499</td>\n",
       "      <td>0.802287</td>\n",
       "    </tr>\n",
       "    <tr>\n",
       "      <th>SVR</th>\n",
       "      <td>SVR</td>\n",
       "      <td>epsilon = 0.01 , Gamma=100</td>\n",
       "      <td>0.842499</td>\n",
       "      <td>0.802287</td>\n",
       "    </tr>\n",
       "    <tr>\n",
       "      <th>Knn Regressor</th>\n",
       "      <td>Knn Regressor</td>\n",
       "      <td>n=4</td>\n",
       "      <td>0.724988</td>\n",
       "      <td>0.702287</td>\n",
       "    </tr>\n",
       "    <tr>\n",
       "      <th>Lasso</th>\n",
       "      <td>Lasso</td>\n",
       "      <td>alpha=0.1</td>\n",
       "      <td>0.720000</td>\n",
       "      <td>0.660000</td>\n",
       "    </tr>\n",
       "    <tr>\n",
       "      <th>Linear Regression</th>\n",
       "      <td>Linear Regression</td>\n",
       "      <td>NA</td>\n",
       "      <td>0.258564</td>\n",
       "      <td>0.233320</td>\n",
       "    </tr>\n",
       "  </tbody>\n",
       "</table>\n",
       "</div>"
      ],
      "text/plain": [
       "                                    Model name             Model parameter  \\\n",
       "Model name                                                                   \n",
       "Polynomial  Regression  Polynomial  Regression               n(degree) = 3   \n",
       "SVR                                        SVR  epsilon = 0.01 , Gamma=100   \n",
       "Knn Regressor                    Knn Regressor                         n=4   \n",
       "Lasso                                    Lasso                   alpha=0.1   \n",
       "Linear Regression            Linear Regression                          NA   \n",
       "\n",
       "                        Train R Score  Test R score  \n",
       "Model name                                           \n",
       "Polynomial  Regression       0.842499      0.802287  \n",
       "SVR                          0.842499      0.802287  \n",
       "Knn Regressor                0.724988      0.702287  \n",
       "Lasso                        0.720000      0.660000  \n",
       "Linear Regression            0.258564      0.233320  "
      ]
     },
     "execution_count": 28,
     "metadata": {},
     "output_type": "execute_result"
    }
   ],
   "source": [
    "report = pd.DataFrame(report_table,columns = ['Model name', 'Model parameter', 'Train R Score', 'Test R score'])\n",
    "report.index = report['Model name']\n",
    "report.sort_values(by='Test R score',ascending=False)"
   ]
  },
  {
   "cell_type": "code",
   "execution_count": 20,
   "metadata": {},
   "outputs": [
    {
     "data": {
      "text/html": [
       "<div>\n",
       "<style scoped>\n",
       "    .dataframe tbody tr th:only-of-type {\n",
       "        vertical-align: middle;\n",
       "    }\n",
       "\n",
       "    .dataframe tbody tr th {\n",
       "        vertical-align: top;\n",
       "    }\n",
       "\n",
       "    .dataframe thead th {\n",
       "        text-align: right;\n",
       "    }\n",
       "</style>\n",
       "<table border=\"1\" class=\"dataframe\">\n",
       "  <thead>\n",
       "    <tr style=\"text-align: right;\">\n",
       "      <th></th>\n",
       "      <th>Model name</th>\n",
       "      <th>Model parameter</th>\n",
       "      <th>Train R Score</th>\n",
       "      <th>Test R score</th>\n",
       "    </tr>\n",
       "    <tr>\n",
       "      <th>Model name</th>\n",
       "      <th></th>\n",
       "      <th></th>\n",
       "      <th></th>\n",
       "      <th></th>\n",
       "    </tr>\n",
       "  </thead>\n",
       "  <tbody>\n",
       "    <tr>\n",
       "      <th>Polynomial  Regression</th>\n",
       "      <td>Polynomial  Regression</td>\n",
       "      <td>3</td>\n",
       "      <td>0.940179</td>\n",
       "      <td>0.921783</td>\n",
       "    </tr>\n",
       "    <tr>\n",
       "      <th>KNN</th>\n",
       "      <td>KNN</td>\n",
       "      <td>6</td>\n",
       "      <td>0.938751</td>\n",
       "      <td>0.919846</td>\n",
       "    </tr>\n",
       "    <tr>\n",
       "      <th>KNN</th>\n",
       "      <td>KNN</td>\n",
       "      <td>5</td>\n",
       "      <td>0.943807</td>\n",
       "      <td>0.918127</td>\n",
       "    </tr>\n",
       "    <tr>\n",
       "      <th>Lasso regression</th>\n",
       "      <td>Lasso regression</td>\n",
       "      <td>1</td>\n",
       "      <td>0.930071</td>\n",
       "      <td>0.915910</td>\n",
       "    </tr>\n",
       "    <tr>\n",
       "      <th>Lasso regression</th>\n",
       "      <td>Lasso regression</td>\n",
       "      <td>0.1</td>\n",
       "      <td>0.930071</td>\n",
       "      <td>0.915909</td>\n",
       "    </tr>\n",
       "    <tr>\n",
       "      <th>Ridge regression</th>\n",
       "      <td>Ridge regression</td>\n",
       "      <td>100</td>\n",
       "      <td>0.930071</td>\n",
       "      <td>0.915909</td>\n",
       "    </tr>\n",
       "    <tr>\n",
       "      <th>Ridge regression</th>\n",
       "      <td>Ridge regression</td>\n",
       "      <td>10</td>\n",
       "      <td>0.930071</td>\n",
       "      <td>0.915909</td>\n",
       "    </tr>\n",
       "    <tr>\n",
       "      <th>Ridge regression</th>\n",
       "      <td>Ridge regression</td>\n",
       "      <td>1</td>\n",
       "      <td>0.930071</td>\n",
       "      <td>0.915909</td>\n",
       "    </tr>\n",
       "    <tr>\n",
       "      <th>Polynomial  Regression</th>\n",
       "      <td>Polynomial  Regression</td>\n",
       "      <td>2</td>\n",
       "      <td>0.930071</td>\n",
       "      <td>0.915909</td>\n",
       "    </tr>\n",
       "    <tr>\n",
       "      <th>Ridge regression</th>\n",
       "      <td>Ridge regression</td>\n",
       "      <td>0.1</td>\n",
       "      <td>0.930071</td>\n",
       "      <td>0.915909</td>\n",
       "    </tr>\n",
       "    <tr>\n",
       "      <th>Ridge regression</th>\n",
       "      <td>Ridge regression</td>\n",
       "      <td>0.01</td>\n",
       "      <td>0.930071</td>\n",
       "      <td>0.915909</td>\n",
       "    </tr>\n",
       "    <tr>\n",
       "      <th>Lasso regression</th>\n",
       "      <td>Lasso regression</td>\n",
       "      <td>0</td>\n",
       "      <td>0.930071</td>\n",
       "      <td>0.915909</td>\n",
       "    </tr>\n",
       "    <tr>\n",
       "      <th>Linear Regression</th>\n",
       "      <td>Linear Regression</td>\n",
       "      <td>NA</td>\n",
       "      <td>0.917017</td>\n",
       "      <td>0.915881</td>\n",
       "    </tr>\n",
       "    <tr>\n",
       "      <th>Polynomial  Regression</th>\n",
       "      <td>Polynomial  Regression</td>\n",
       "      <td>1</td>\n",
       "      <td>0.917017</td>\n",
       "      <td>0.915881</td>\n",
       "    </tr>\n",
       "    <tr>\n",
       "      <th>KNN</th>\n",
       "      <td>KNN</td>\n",
       "      <td>7</td>\n",
       "      <td>0.934185</td>\n",
       "      <td>0.912077</td>\n",
       "    </tr>\n",
       "    <tr>\n",
       "      <th>KNN</th>\n",
       "      <td>KNN</td>\n",
       "      <td>8</td>\n",
       "      <td>0.929116</td>\n",
       "      <td>0.911212</td>\n",
       "    </tr>\n",
       "    <tr>\n",
       "      <th>KNN</th>\n",
       "      <td>KNN</td>\n",
       "      <td>4</td>\n",
       "      <td>0.947818</td>\n",
       "      <td>0.911113</td>\n",
       "    </tr>\n",
       "    <tr>\n",
       "      <th>KNN</th>\n",
       "      <td>KNN</td>\n",
       "      <td>9</td>\n",
       "      <td>0.925409</td>\n",
       "      <td>0.910865</td>\n",
       "    </tr>\n",
       "    <tr>\n",
       "      <th>KNN</th>\n",
       "      <td>KNN</td>\n",
       "      <td>3</td>\n",
       "      <td>0.955898</td>\n",
       "      <td>0.905195</td>\n",
       "    </tr>\n",
       "    <tr>\n",
       "      <th>KNN</th>\n",
       "      <td>KNN</td>\n",
       "      <td>2</td>\n",
       "      <td>0.967077</td>\n",
       "      <td>0.893237</td>\n",
       "    </tr>\n",
       "    <tr>\n",
       "      <th>KNN</th>\n",
       "      <td>KNN</td>\n",
       "      <td>1</td>\n",
       "      <td>1.000000</td>\n",
       "      <td>0.862817</td>\n",
       "    </tr>\n",
       "  </tbody>\n",
       "</table>\n",
       "</div>"
      ],
      "text/plain": [
       "                                    Model name Model parameter  Train R Score  \\\n",
       "Model name                                                                      \n",
       "Polynomial  Regression  Polynomial  Regression               3       0.940179   \n",
       "KNN                                        KNN               6       0.938751   \n",
       "KNN                                        KNN               5       0.943807   \n",
       "Lasso regression              Lasso regression               1       0.930071   \n",
       "Lasso regression              Lasso regression             0.1       0.930071   \n",
       "Ridge regression              Ridge regression             100       0.930071   \n",
       "Ridge regression              Ridge regression              10       0.930071   \n",
       "Ridge regression              Ridge regression               1       0.930071   \n",
       "Polynomial  Regression  Polynomial  Regression               2       0.930071   \n",
       "Ridge regression              Ridge regression             0.1       0.930071   \n",
       "Ridge regression              Ridge regression            0.01       0.930071   \n",
       "Lasso regression              Lasso regression               0       0.930071   \n",
       "Linear Regression            Linear Regression              NA       0.917017   \n",
       "Polynomial  Regression  Polynomial  Regression               1       0.917017   \n",
       "KNN                                        KNN               7       0.934185   \n",
       "KNN                                        KNN               8       0.929116   \n",
       "KNN                                        KNN               4       0.947818   \n",
       "KNN                                        KNN               9       0.925409   \n",
       "KNN                                        KNN               3       0.955898   \n",
       "KNN                                        KNN               2       0.967077   \n",
       "KNN                                        KNN               1       1.000000   \n",
       "\n",
       "                        Test R score  \n",
       "Model name                            \n",
       "Polynomial  Regression      0.921783  \n",
       "KNN                         0.919846  \n",
       "KNN                         0.918127  \n",
       "Lasso regression            0.915910  \n",
       "Lasso regression            0.915909  \n",
       "Ridge regression            0.915909  \n",
       "Ridge regression            0.915909  \n",
       "Ridge regression            0.915909  \n",
       "Polynomial  Regression      0.915909  \n",
       "Ridge regression            0.915909  \n",
       "Ridge regression            0.915909  \n",
       "Lasso regression            0.915909  \n",
       "Linear Regression           0.915881  \n",
       "Polynomial  Regression      0.915881  \n",
       "KNN                         0.912077  \n",
       "KNN                         0.911212  \n",
       "KNN                         0.911113  \n",
       "KNN                         0.910865  \n",
       "KNN                         0.905195  \n",
       "KNN                         0.893237  \n",
       "KNN                         0.862817  "
      ]
     },
     "execution_count": 20,
     "metadata": {},
     "output_type": "execute_result"
    }
   ],
   "source": [
    "report = pd.DataFrame(report_table_n,columns = ['Model name', 'Model parameter', 'Train R Score', 'Test R score'])\n",
    "report.index = report['Model name']\n",
    "report.sort_values(by='Test R score',ascending=False)"
   ]
  },
  {
   "cell_type": "markdown",
   "metadata": {},
   "source": [
    "The value of PCA is better than the test R-Score value we obtained in project 2 for the model polynomial regression and hence\n",
    "the best model is polynomial regression with PCA "
   ]
  },
  {
   "cell_type": "code",
   "execution_count": 32,
   "metadata": {},
   "outputs": [
    {
     "name": "stderr",
     "output_type": "stream",
     "text": [
      "Using TensorFlow backend.\n"
     ]
    },
    {
     "ename": "ModuleNotFoundError",
     "evalue": "No module named 'tensorflow'",
     "output_type": "error",
     "traceback": [
      "\u001b[1;31m---------------------------------------------------------------------------\u001b[0m",
      "\u001b[1;31mModuleNotFoundError\u001b[0m                       Traceback (most recent call last)",
      "\u001b[1;32m<ipython-input-32-199f7040c725>\u001b[0m in \u001b[0;36m<module>\u001b[1;34m()\u001b[0m\n\u001b[1;32m----> 1\u001b[1;33m \u001b[1;32mfrom\u001b[0m \u001b[0mkeras\u001b[0m\u001b[1;33m.\u001b[0m\u001b[0mmodels\u001b[0m \u001b[1;32mimport\u001b[0m \u001b[0mSequential\u001b[0m\u001b[1;33m\u001b[0m\u001b[0m\n\u001b[0m\u001b[0;32m      2\u001b[0m \u001b[1;32mfrom\u001b[0m \u001b[0mkeras\u001b[0m\u001b[1;33m.\u001b[0m\u001b[0mlayers\u001b[0m \u001b[1;32mimport\u001b[0m \u001b[0mDense\u001b[0m\u001b[1;33m\u001b[0m\u001b[0m\n\u001b[0;32m      3\u001b[0m \u001b[1;32mimport\u001b[0m \u001b[0mnumpy\u001b[0m\u001b[1;33m\u001b[0m\u001b[0m\n\u001b[0;32m      4\u001b[0m \u001b[1;33m\u001b[0m\u001b[0m\n\u001b[0;32m      5\u001b[0m \u001b[1;31m#fix random seed for reproducibility\u001b[0m\u001b[1;33m\u001b[0m\u001b[1;33m\u001b[0m\u001b[0m\n",
      "\u001b[1;32m~\\AppData\\Local\\Continuum\\anaconda3\\lib\\site-packages\\keras\\__init__.py\u001b[0m in \u001b[0;36m<module>\u001b[1;34m()\u001b[0m\n\u001b[0;32m      1\u001b[0m \u001b[1;32mfrom\u001b[0m \u001b[0m__future__\u001b[0m \u001b[1;32mimport\u001b[0m \u001b[0mabsolute_import\u001b[0m\u001b[1;33m\u001b[0m\u001b[0m\n\u001b[0;32m      2\u001b[0m \u001b[1;33m\u001b[0m\u001b[0m\n\u001b[1;32m----> 3\u001b[1;33m \u001b[1;32mfrom\u001b[0m \u001b[1;33m.\u001b[0m \u001b[1;32mimport\u001b[0m \u001b[0mutils\u001b[0m\u001b[1;33m\u001b[0m\u001b[0m\n\u001b[0m\u001b[0;32m      4\u001b[0m \u001b[1;32mfrom\u001b[0m \u001b[1;33m.\u001b[0m \u001b[1;32mimport\u001b[0m \u001b[0mactivations\u001b[0m\u001b[1;33m\u001b[0m\u001b[0m\n\u001b[0;32m      5\u001b[0m \u001b[1;32mfrom\u001b[0m \u001b[1;33m.\u001b[0m \u001b[1;32mimport\u001b[0m \u001b[0mapplications\u001b[0m\u001b[1;33m\u001b[0m\u001b[0m\n",
      "\u001b[1;32m~\\AppData\\Local\\Continuum\\anaconda3\\lib\\site-packages\\keras\\utils\\__init__.py\u001b[0m in \u001b[0;36m<module>\u001b[1;34m()\u001b[0m\n\u001b[0;32m      4\u001b[0m \u001b[1;32mfrom\u001b[0m \u001b[1;33m.\u001b[0m \u001b[1;32mimport\u001b[0m \u001b[0mdata_utils\u001b[0m\u001b[1;33m\u001b[0m\u001b[0m\n\u001b[0;32m      5\u001b[0m \u001b[1;32mfrom\u001b[0m \u001b[1;33m.\u001b[0m \u001b[1;32mimport\u001b[0m \u001b[0mio_utils\u001b[0m\u001b[1;33m\u001b[0m\u001b[0m\n\u001b[1;32m----> 6\u001b[1;33m \u001b[1;32mfrom\u001b[0m \u001b[1;33m.\u001b[0m \u001b[1;32mimport\u001b[0m \u001b[0mconv_utils\u001b[0m\u001b[1;33m\u001b[0m\u001b[0m\n\u001b[0m\u001b[0;32m      7\u001b[0m \u001b[1;33m\u001b[0m\u001b[0m\n\u001b[0;32m      8\u001b[0m \u001b[1;31m# Globally-importable utils.\u001b[0m\u001b[1;33m\u001b[0m\u001b[1;33m\u001b[0m\u001b[0m\n",
      "\u001b[1;32m~\\AppData\\Local\\Continuum\\anaconda3\\lib\\site-packages\\keras\\utils\\conv_utils.py\u001b[0m in \u001b[0;36m<module>\u001b[1;34m()\u001b[0m\n\u001b[0;32m      7\u001b[0m \u001b[1;32mfrom\u001b[0m \u001b[0msix\u001b[0m\u001b[1;33m.\u001b[0m\u001b[0mmoves\u001b[0m \u001b[1;32mimport\u001b[0m \u001b[0mrange\u001b[0m\u001b[1;33m\u001b[0m\u001b[0m\n\u001b[0;32m      8\u001b[0m \u001b[1;32mimport\u001b[0m \u001b[0mnumpy\u001b[0m \u001b[1;32mas\u001b[0m \u001b[0mnp\u001b[0m\u001b[1;33m\u001b[0m\u001b[0m\n\u001b[1;32m----> 9\u001b[1;33m \u001b[1;32mfrom\u001b[0m \u001b[1;33m.\u001b[0m\u001b[1;33m.\u001b[0m \u001b[1;32mimport\u001b[0m \u001b[0mbackend\u001b[0m \u001b[1;32mas\u001b[0m \u001b[0mK\u001b[0m\u001b[1;33m\u001b[0m\u001b[0m\n\u001b[0m\u001b[0;32m     10\u001b[0m \u001b[1;33m\u001b[0m\u001b[0m\n\u001b[0;32m     11\u001b[0m \u001b[1;33m\u001b[0m\u001b[0m\n",
      "\u001b[1;32m~\\AppData\\Local\\Continuum\\anaconda3\\lib\\site-packages\\keras\\backend\\__init__.py\u001b[0m in \u001b[0;36m<module>\u001b[1;34m()\u001b[0m\n\u001b[0;32m     87\u001b[0m \u001b[1;32melif\u001b[0m \u001b[0m_BACKEND\u001b[0m \u001b[1;33m==\u001b[0m \u001b[1;34m'tensorflow'\u001b[0m\u001b[1;33m:\u001b[0m\u001b[1;33m\u001b[0m\u001b[0m\n\u001b[0;32m     88\u001b[0m     \u001b[0msys\u001b[0m\u001b[1;33m.\u001b[0m\u001b[0mstderr\u001b[0m\u001b[1;33m.\u001b[0m\u001b[0mwrite\u001b[0m\u001b[1;33m(\u001b[0m\u001b[1;34m'Using TensorFlow backend.\\n'\u001b[0m\u001b[1;33m)\u001b[0m\u001b[1;33m\u001b[0m\u001b[0m\n\u001b[1;32m---> 89\u001b[1;33m     \u001b[1;32mfrom\u001b[0m \u001b[1;33m.\u001b[0m\u001b[0mtensorflow_backend\u001b[0m \u001b[1;32mimport\u001b[0m \u001b[1;33m*\u001b[0m\u001b[1;33m\u001b[0m\u001b[0m\n\u001b[0m\u001b[0;32m     90\u001b[0m \u001b[1;32melse\u001b[0m\u001b[1;33m:\u001b[0m\u001b[1;33m\u001b[0m\u001b[0m\n\u001b[0;32m     91\u001b[0m     \u001b[1;31m# Try and load external backend.\u001b[0m\u001b[1;33m\u001b[0m\u001b[1;33m\u001b[0m\u001b[0m\n",
      "\u001b[1;32m~\\AppData\\Local\\Continuum\\anaconda3\\lib\\site-packages\\keras\\backend\\tensorflow_backend.py\u001b[0m in \u001b[0;36m<module>\u001b[1;34m()\u001b[0m\n\u001b[0;32m      3\u001b[0m \u001b[1;32mfrom\u001b[0m \u001b[0m__future__\u001b[0m \u001b[1;32mimport\u001b[0m \u001b[0mprint_function\u001b[0m\u001b[1;33m\u001b[0m\u001b[0m\n\u001b[0;32m      4\u001b[0m \u001b[1;33m\u001b[0m\u001b[0m\n\u001b[1;32m----> 5\u001b[1;33m \u001b[1;32mimport\u001b[0m \u001b[0mtensorflow\u001b[0m \u001b[1;32mas\u001b[0m \u001b[0mtf\u001b[0m\u001b[1;33m\u001b[0m\u001b[0m\n\u001b[0m\u001b[0;32m      6\u001b[0m \u001b[1;32mfrom\u001b[0m \u001b[0mtensorflow\u001b[0m\u001b[1;33m.\u001b[0m\u001b[0mpython\u001b[0m\u001b[1;33m.\u001b[0m\u001b[0mframework\u001b[0m \u001b[1;32mimport\u001b[0m \u001b[0mops\u001b[0m \u001b[1;32mas\u001b[0m \u001b[0mtf_ops\u001b[0m\u001b[1;33m\u001b[0m\u001b[0m\n\u001b[0;32m      7\u001b[0m \u001b[1;32mfrom\u001b[0m \u001b[0mtensorflow\u001b[0m\u001b[1;33m.\u001b[0m\u001b[0mpython\u001b[0m\u001b[1;33m.\u001b[0m\u001b[0mtraining\u001b[0m \u001b[1;32mimport\u001b[0m \u001b[0mmoving_averages\u001b[0m\u001b[1;33m\u001b[0m\u001b[0m\n",
      "\u001b[1;31mModuleNotFoundError\u001b[0m: No module named 'tensorflow'"
     ]
    }
   ],
   "source": [
    "from keras.models import Sequential\n",
    "from keras.layers import Dense\n",
    "import numpy\n",
    "\n",
    "#fix random seed for reproducibility\n",
    "numpy.random.seed(10)"
   ]
  },
  {
   "cell_type": "code",
   "execution_count": null,
   "metadata": {},
   "outputs": [],
   "source": [
    "# create model\n",
    "model = Sequential()\n",
    "model.add(Dense(13, input_dim=13, kernel_initializer='normal', activation='relu'))\n",
    "model.add(Dense(1, kernel_initializer='normal'))\n",
    "\n",
    "# Compile model\n",
    "model.compile(loss='mse', optimizer='sgd' , metrics = ['mse'])\n",
    "\n",
    "#Fit the model \n",
    "model.fit(X_train, y_train, epochs = 50, batch_size = 20)\n",
    "\n",
    "#Evaluate the model\n",
    "model.evaluate(X_test, y_test)\n",
    "\n",
    "#Training and testing score \n",
    "from sklearn.metrics import r2_score, recall_score, precision_score\n",
    "\n",
    "y_train_predict = model.predict(X_train)\n",
    "y_test_predict = model.predict(X_test)\n",
    "\n",
    "print('Train score: {:.2f}'.format(r2_score(y_train, y_train_predict)))\n",
    "print('Test score: {:.2f}'.format(r2_score(y_test, y_test_predict)))"
   ]
  }
 ],
 "metadata": {
  "kernelspec": {
   "display_name": "Python 3",
   "language": "python",
   "name": "python3"
  },
  "language_info": {
   "codemirror_mode": {
    "name": "ipython",
    "version": 3
   },
   "file_extension": ".py",
   "mimetype": "text/x-python",
   "name": "python",
   "nbconvert_exporter": "python",
   "pygments_lexer": "ipython3",
   "version": "3.7.0"
  }
 },
 "nbformat": 4,
 "nbformat_minor": 2
}
